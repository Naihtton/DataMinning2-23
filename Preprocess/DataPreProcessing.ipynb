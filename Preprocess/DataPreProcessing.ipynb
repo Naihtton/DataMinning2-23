{
 "cells": [
  {
   "cell_type": "code",
   "execution_count": null,
   "id": "6bec1bab-71d8-4dd0-812e-ca8bc8e088e8",
   "metadata": {},
   "outputs": [],
   "source": [
    "pip install matplotlib numpy pylint scikit-learn"
   ]
  },
  {
   "cell_type": "code",
   "execution_count": null,
   "id": "8744fbcc-51a4-4877-9a20-0763daa0d2fe",
   "metadata": {},
   "outputs": [],
   "source": [
    "import numpy as np\n",
    "import matplotlib.pyplot as plt\n",
    "\n",
    "# Load data from the datasetCh2_stu.txt file\n",
    "with open('datasetCh2_stu.txt', 'r') as file:\n",
    "    data = [list(map(int, line.split())) for line in file.readlines()]\n",
    "\n",
    "# Extract the first and second columns as X and Y values\n",
    "x_values, y_values = zip(*data)\n",
    "\n",
    "xp = np.arange(min(x_values), max(x_values) + 1, 0.01)  # array with 100 points between min(x_values) and max(x_values)\n",
    "yp = []\n",
    "e = []\n",
    "ep = []\n",
    "j = []\n",
    "\n",
    "# for in range( start, stop, step)\n",
    "for i in range(1, 7, 1):\n",
    "    # print(\"\\nRound \", i)\n",
    "    p = np.polyfit(x_values, y_values, i)\n",
    "    # constructing polynomial\n",
    "    p = np.poly1d(p)\n",
    "    print(\"\\n Polynomial degree\", i, \"= \\n\", p)\n",
    "    # print(\"coefficients of degree\", i, \" is :\", p)\n",
    "    yp[:] = np.polyval(p, xp)\n",
    "    e[:] = (np.polyval(p, x_values) - y_values)\n",
    "    e = np.array(e)  # change to matrix\n",
    "    ep = e * e  # matrix operation\n",
    "    j = sum(ep)\n",
    "    print(\"Error(J) is : \", j)\n",
    "    d = plt.subplot(2, 3, i)\n",
    "    d.plot(xp, yp[:], x_values, y_values, 'o')\n",
    "\n",
    "plt.show()\n"
   ]
  },
  {
   "cell_type": "code",
   "execution_count": null,
   "id": "2792d80e-59e3-443c-854f-30b6d3e98f4b",
   "metadata": {},
   "outputs": [],
   "source": [
    "import numpy as np\n",
    "import matplotlib.pyplot as plt\n",
    "\n",
    "# Load data from the datasetCh2_stu.txt file\n",
    "with open('datasetCh2_stu.txt', 'r') as file:\n",
    "    data = [list(map(int, line.split())) for line in file.readlines()]\n",
    "\n",
    "# Extract the first and second columns as X and Y values\n",
    "x_values, y_values = zip(*data)\n",
    "\n",
    "xp = np.arange(min(x_values), max(x_values) + 1, 0.01)  # array with 100 points between min(x_values) and max(x_values)\n",
    "\n",
    "# Create a 2x3 grid of subplots\n",
    "fig, axs = plt.subplots(2, 3, figsize=(15, 10))\n",
    "\n",
    "# Iterate through polynomial degrees\n",
    "for i in range(1, 7, 1):\n",
    "    p = np.polyfit(x_values, y_values, i)\n",
    "    p = np.poly1d(p)\n",
    "    \n",
    "    # Calculate polynomial values for the entire range\n",
    "    yp = np.polyval(p, xp)\n",
    "    \n",
    "    # Calculate error\n",
    "    e = np.polyval(p, x_values) - y_values\n",
    "    error = np.sum(e**2)\n",
    "    \n",
    "    # Plot the data and the polynomial fit\n",
    "    ax = axs[(i-1)//3, (i-1)%3]\n",
    "    ax.plot(xp, yp, label=f'Degree {i} Polynomial')\n",
    "    ax.scatter(x_values, y_values, color='red', label='Data points', marker='o')\n",
    "    \n",
    "    # Add labels and legend\n",
    "    ax.set_title(f'Degree {i} Polynomial \\nError: {error:.2f}')\n",
    "    ax.set_xlabel('X Attribute')\n",
    "    ax.set_ylabel('Y Attribute')\n",
    "    ax.legend()\n",
    "\n",
    "# Adjust layout for better spacing\n",
    "plt.tight_layout()\n",
    "plt.show()\n"
   ]
  }
 ],
 "metadata": {
  "kernelspec": {
   "display_name": "Python 3 (ipykernel)",
   "language": "python",
   "name": "python3"
  },
  "language_info": {
   "codemirror_mode": {
    "name": "ipython",
    "version": 3
   },
   "file_extension": ".py",
   "mimetype": "text/x-python",
   "name": "python",
   "nbconvert_exporter": "python",
   "pygments_lexer": "ipython3",
   "version": "3.12.0"
  }
 },
 "nbformat": 4,
 "nbformat_minor": 5
}
